{
 "cells": [
  {
   "cell_type": "code",
   "execution_count": 14,
   "metadata": {},
   "outputs": [],
   "source": [
    "import warnings\n",
    "warnings.filterwarnings(\"ignore\")\n",
    "import langchain\n",
    "import os\n",
    "from dotenv import load_dotenv"
   ]
  },
  {
   "cell_type": "code",
   "execution_count": 15,
   "metadata": {},
   "outputs": [],
   "source": [
    "# Load environment variables\n",
    "load_dotenv()\n",
    "base_url = os.getenv(\"base_url\")\n",
    "api_key = os.getenv(\"api_key\")\n",
    "model = os.getenv(\"model\")"
   ]
  },
  {
   "cell_type": "code",
   "execution_count": 16,
   "metadata": {},
   "outputs": [],
   "source": [
    "from langchain import PromptTemplate, LLMChain\n",
    "from langchain_openai import ChatOpenAI"
   ]
  },
  {
   "cell_type": "code",
   "execution_count": 17,
   "metadata": {},
   "outputs": [],
   "source": [
    "prompt_template = PromptTemplate(\n",
    "    input_variables = [\"topic\"],\n",
    "    template = \"Create a short, engaging social media post about {topic}\"\n",
    ")"
   ]
  },
  {
   "cell_type": "code",
   "execution_count": 18,
   "metadata": {},
   "outputs": [],
   "source": [
    "llm = ChatOpenAI(\n",
    "    model=model,\n",
    "    temperature=0.3,\n",
    "    max_tokens=8192,\n",
    "    api_key=api_key,\n",
    "    base_url=base_url,\n",
    ")"
   ]
  },
  {
   "cell_type": "code",
   "execution_count": 19,
   "metadata": {},
   "outputs": [],
   "source": [
    "llm_chain = LLMChain(prompt = prompt_template, llm = llm)"
   ]
  },
  {
   "cell_type": "code",
   "execution_count": 20,
   "metadata": {},
   "outputs": [],
   "source": [
    "def social_media_post(topic):\n",
    "    response = llm_chain.run(topic)\n",
    "    return response"
   ]
  },
  {
   "cell_type": "code",
   "execution_count": 21,
   "metadata": {},
   "outputs": [],
   "source": [
    "topic = \"the importance of recycling\""
   ]
  },
  {
   "cell_type": "code",
   "execution_count": 22,
   "metadata": {},
   "outputs": [],
   "source": [
    "post = social_media_post(topic)"
   ]
  },
  {
   "cell_type": "code",
   "execution_count": 23,
   "metadata": {},
   "outputs": [
    {
     "name": "stdout",
     "output_type": "stream",
     "text": [
      "◁think▷First I will write a draft social media post:\n",
      "Hey there, Earthlings! 🌍 Did you know recycling is like giving your planet a high-five? 🙌 Every can crushed, every bottle saved, every paper shredded and tossed in the right bin makes a HUGE difference. It conserves precious resources, reduces pollution, and helps keep our oceans clean for future generations of beach bums and sea creatures alike. 🌊🐢 Let's make recycling a daily habit, not just a sometimes thing. Together, we can create a cleaner, greener world! 💚 #RecyclingMatters #SaveThePlanet #SmallActionsBigImpact\n",
      "\n",
      "I will self-critique my draft post to ensure that the draft post is valid:\n",
      "The draft post is valid and does not fail any of the requirements mentioned in the initial query.◁/think▷Hey there, Earthlings! 🌍 Did you know recycling is like giving your planet a high-five? 🙌 Every can crushed, every bottle saved, every paper shredded and tossed in the right bin makes a HUGE difference. It conserves precious resources, reduces pollution, and helps keep our oceans clean for future generations of beach bums and sea creatures alike. 🌊🐢 Let's make recycling a daily habit, not just a sometimes thing. Together, we can create a cleaner, greener world! 💚 #RecyclingMatters #SaveThePlanet #SmallActionsBigImpact\n"
     ]
    }
   ],
   "source": [
    "print(post)"
   ]
  }
 ],
 "metadata": {
  "kernelspec": {
   "display_name": "Python 3",
   "language": "python",
   "name": "python3"
  },
  "language_info": {
   "codemirror_mode": {
    "name": "ipython",
    "version": 3
   },
   "file_extension": ".py",
   "mimetype": "text/x-python",
   "name": "python",
   "nbconvert_exporter": "python",
   "pygments_lexer": "ipython3",
   "version": "3.12.3"
  }
 },
 "nbformat": 4,
 "nbformat_minor": 2
}
